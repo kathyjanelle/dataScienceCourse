{
 "cells": [
  {
   "cell_type": "code",
   "execution_count": null,
   "id": "b9633901",
   "metadata": {},
   "outputs": [
    {
     "name": "stdout",
     "output_type": "stream",
     "text": [
      "guess a number between 1 and 10 until you get it correct: 1\n",
      "nope! Guess again\n",
      "guess a number between 1 and 10 until you get it correct: 5\n",
      "nope! Guess again\n",
      "guess a number between 1 and 10 until you get it correct: 3\n",
      "nope! Guess again\n",
      "guess a number between 1 and 10 until you get it correct: 5\n",
      "nope! Guess again\n",
      "guess a number between 1 and 10 until you get it correct: 6\n",
      "nope! Guess again\n",
      "guess a number between 1 and 10 until you get it correct: 0\n",
      "nope! Guess again\n",
      "guess a number between 1 and 10 until you get it correct: 15\n",
      "nope! Guess again\n"
     ]
    }
   ],
   "source": [
    "#this imports a random integer generator, aliased as \"rng\".\n",
    "from random import randint as rng\n",
    "#Here, a random number (randNum) can be assigned using rng(1,9) specifying the start and end points as 1 to 9.\n",
    "randNum = rng(1,9)\n",
    "guess = 0\n",
    "while randNum != guess:\n",
    "    guess = int(input(\"guess a number between 1 and 10 until you get it correct: \"))\n",
    "    \n",
    "    if randNum == guess:\n",
    "        print(\"Good job you guessed the number!\")\n",
    "        break\n",
    "        \n",
    "    else:\n",
    "        print(\"nope! Guess again\")"
   ]
  },
  {
   "cell_type": "code",
   "execution_count": null,
   "id": "0743218a",
   "metadata": {},
   "outputs": [],
   "source": []
  }
 ],
 "metadata": {
  "kernelspec": {
   "display_name": "Python 3",
   "language": "python",
   "name": "python3"
  },
  "language_info": {
   "codemirror_mode": {
    "name": "ipython",
    "version": 3
   },
   "file_extension": ".py",
   "mimetype": "text/x-python",
   "name": "python",
   "nbconvert_exporter": "python",
   "pygments_lexer": "ipython3",
   "version": "3.8.8"
  }
 },
 "nbformat": 4,
 "nbformat_minor": 5
}
