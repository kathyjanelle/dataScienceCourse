{
 "cells": [
  {
   "cell_type": "markdown",
   "metadata": {},
   "source": [
    "Data Science Fundamentals: Python |\n",
    "[Table of Contents](../index.ipynb)\n",
    "- - - \n",
    "<!--NAVIGATION-->\n",
    "Module 3. [Control Flow](./01_mod_control_flow.ipynb) | [Statements](./02_python_statements.ipynb) | [Functions](./03_python_functions.ipynb) | **[Exercises](./04_mod_exercises.ipynb)**"
   ]
  },
  {
   "cell_type": "markdown",
   "metadata": {},
   "source": [
    "# Control Flow Exercises"
   ]
  },
  {
   "cell_type": "markdown",
   "metadata": {},
   "source": [
    "### Exercise 1:\n",
    "Guess a number between 1 to 9 given by the user. Hint. [Random](https://docs.python.org/3/library/random.html)"
   ]
  },
  {
   "cell_type": "code",
   "execution_count": null,
   "metadata": {},
   "outputs": [
    {
     "name": "stdout",
     "output_type": "stream",
     "text": [
      "guess a number between 1 and 10 until you get it correct: 15\n",
      "nope! Guess again\n",
      "guess a number between 1 and 10 until you get it correct: 10\n",
      "nope! Guess again\n"
     ]
    }
   ],
   "source": [
    "#this imports a random integer generator, aliased as \"rng\".\n",
    "from random import randint as rng\n",
    "#Here, a random number (randNum) can be assigned using rng(1,9) specifying the start and end points as 1 to 9.\n",
    "randNum = rng(1,9)\n",
    "guess = 0\n",
    "while randNum != guess:\n",
    "    guess = int(input(\"guess a number between 1 and 10 until you get it correct: \"))\n",
    "    \n",
    "    if randNum == guess:\n",
    "        print(\"Good job you guessed the number!\")\n",
    "        break\n",
    "        \n",
    "        \n",
    "    else:\n",
    "        print(\"nope! Guess again\")"
   ]
  },
  {
   "cell_type": "markdown",
   "metadata": {},
   "source": [
    "### Exercise 2:\n",
    "Check the validity of password input by the user. Hint. [Re](https://docs.python.org/3/library/re.html) which does matching operations much like Perl.\n",
    "\n",
    "Validation:\n",
    "\n",
    "- At least 1 letter between [a-z] and 1 letter between [A-Z].\n",
    "- At least 1 number between [0-9].\n",
    "- At least 1 character from [$#@].\n",
    "- Minimum length 6 characters.\n",
    "- Maximum length 16 characters."
   ]
  },
  {
   "cell_type": "code",
   "execution_count": 1,
   "metadata": {},
   "outputs": [
    {
     "name": "stdout",
     "output_type": "stream",
     "text": [
      "Please enter a valid password:\n",
      "Valid passwords are:\n",
      "\t6-16 characters in length,\n",
      "\tContain 1+ numbers,\n",
      "\t1+ character from [$#@!], and \n",
      "\tAt least 1 upper and 1 lowercase letter.\n",
      "Input: Machhsokkk@1\n",
      "Invalid\n"
     ]
    }
   ],
   "source": [
    "#This exercise is difficult for beginners, as it utilizes Regex. If you don't get it at first, thats okay, do your best.\n",
    "import re\n",
    "pwd = input('Please enter a valid password:\\nValid passwords are:\\n\\t6-16 characters in length,\\n\\tContain 1+ numbers,\\n\\t1+ character from [$#@!], and \\n\\tAt least 1 upper and 1 lowercase letter.\\nInput: ')\n",
    "\n",
    "result = 0                                   # declaring for a senario \n",
    "if not re.search('[a-z]','[A-Z]'):           # if a lower & upper case is not entered \n",
    "    result = 1\n",
    "if not re.search('[0-9]',pwd):               #if a number between 1-9 not entered \n",
    "    result = 1 \n",
    "if not re.search('[$#@!]',pwd):               #if characters $#@ not entered \n",
    "    result = 1\n",
    "if len(pwd)<6:                               # if length is less than 6 \n",
    "    result = 1\n",
    "\n",
    "if result == 0:                              # if senario meet the conditions then it's valid \n",
    "    print('Valid')\n",
    "    \n",
    "else:                                        # if senario meet the conditions then it's not valid  \n",
    "    print('Invalid')\n",
    "\n",
    "    "
   ]
  },
  {
   "cell_type": "markdown",
   "metadata": {},
   "source": [
    "### Exercise 3:\n",
    "Get input of the age of 3 people by user and determine oldest and youngest among them"
   ]
  },
  {
   "cell_type": "code",
   "execution_count": 1,
   "metadata": {},
   "outputs": [
    {
     "name": "stdout",
     "output_type": "stream",
     "text": [
      "Enter First Person's Age : 25\n",
      "Enter Second Person's Age : 34\n",
      "Enter Third Person's Age : 68\n",
      "Oldest age:  68\n",
      "Youngest age:  25\n"
     ]
    }
   ],
   "source": [
    "number1 = int(input(\"Enter First Person's Age : \"))\n",
    "number2 = int(input(\"Enter Second Person's Age : \"))\n",
    "number3 = int(input(\"Enter Third Person's Age : \"))\n",
    "\n",
    "#to find the oldest \n",
    "max_number = max(number1,number2,number3)\n",
    "\n",
    "#to find the youngest \n",
    "min_number = min(number1,number2,number3)\n",
    "\n",
    "#print result \n",
    "print(\"Oldest age: \", max_number)\n",
    "print(\"Youngest age: \", min_number)\n"
   ]
  },
  {
   "cell_type": "markdown",
   "metadata": {},
   "source": [
    "### Exercise 4:\n",
    "A student will not be allowed to sit in exam if his/her attendance is less than 75%.\n",
    "\n",
    "Take following input from user\n",
    "\n",
    "- Number of classes held\n",
    "- Number of classes attended.\n",
    "- And print percentage of class attended\n",
    "- Is student is allowed to sit in exam or not?"
   ]
  },
  {
   "cell_type": "code",
   "execution_count": 4,
   "metadata": {},
   "outputs": [
    {
     "name": "stdout",
     "output_type": "stream",
     "text": [
      "Number of classes held: 88\n",
      "Number of classes attended: 50\n",
      "The student is not allowed to sit in exam.\n"
     ]
    }
   ],
   "source": [
    "#number of classes held:\n",
    "class_held = int(input(\"Number of classes held: \"))\n",
    "\n",
    "#number of classes attended:\n",
    "class_attended = int(input(\"Number of classes attended: \"))\n",
    "\n",
    "#percentage of classes\n",
    "classPercent = (class_attended/class_held)*100\n",
    "\n",
    "#Is student allowed to sit in exam?\n",
    "if classPercent < 75:\n",
    "    print('The student is not allowed to sit in exam.')\n",
    "else:\n",
    "    print('The student is allowed to sit in exam.')"
   ]
  },
  {
   "cell_type": "markdown",
   "metadata": {},
   "source": [
    "### Exercise 5:\n",
    "Get an integer N from the user and perform the following actions:\n",
    "\n",
    "Find out - \n",
    "- if N is odd, print \"weird\"\n",
    "- if N is even and in the inclusive range of 2 to 5, print \"Not Weird\"\n",
    "- if N is even and in the inclusive range of 6 to 20, print \"Weird\"\n",
    "- if N is even and greater than 20, print \"Not Weird\""
   ]
  },
  {
   "cell_type": "code",
   "execution_count": 9,
   "metadata": {},
   "outputs": [
    {
     "name": "stdout",
     "output_type": "stream",
     "text": [
      "n= 45\n",
      "Weird\n",
      "Weird\n"
     ]
    }
   ],
   "source": [
    "# Given an integer, n, perform the following conditional actions:\n",
    "n = int(input(\"n= \"))\n",
    "\n",
    "# If n is odd, print Weird\n",
    "if n % 2 != 0:\n",
    "    print('Weird')\n",
    "    \n",
    "# If n is even and in the inclusive range of 2 to 5, print Not Weird\n",
    "if n % 2 == 0:\n",
    "    if n >= 2 & n <=5:\n",
    "        print('Not Weird')\n",
    "        \n",
    "# If n is even and in the inclusive range of 6 to 20, print Weird\n",
    "    if n >= 6 & n <= 20:\n",
    "        print('Weird')\n",
    "    \n",
    "# If n is even and greater than 20, print Not Weird\n",
    "    if(n>20):\n",
    "        print('Not Weird')  \n",
    "else:\n",
    "    print('Weird')\n"
   ]
  },
  {
   "cell_type": "markdown",
   "metadata": {},
   "source": [
    "\n",
    "## Extra Points\n",
    "- - -"
   ]
  },
  {
   "cell_type": "markdown",
   "metadata": {},
   "source": [
    "1. ***Optional Exercise (Extra Points)***. Write a Python program to reverse a string."
   ]
  },
  {
   "cell_type": "raw",
   "metadata": {},
   "source": [
    "Sample String : \"1234abcd\"\n",
    "Expected Output : \"dcba4321\""
   ]
  },
  {
   "cell_type": "code",
   "execution_count": 17,
   "metadata": {},
   "outputs": [
    {
     "name": "stdout",
     "output_type": "stream",
     "text": [
      "dcba321\n"
     ]
    }
   ],
   "source": [
    "Sample_String = \"123abcd\"\n",
    "\n",
    "#using the [start:end:step] approach to reverse string\n",
    "print(Sample_String[-1: : -1])    "
   ]
  },
  {
   "cell_type": "markdown",
   "metadata": {},
   "source": [
    "2. ***Optional Exercise (Extra Points)***. Write a Python function to multiply all the numbers in a list. "
   ]
  },
  {
   "cell_type": "raw",
   "metadata": {},
   "source": [
    "Sample List : (8, 2, 3, -1, 7)\n",
    "Expected Output : -336"
   ]
  },
  {
   "cell_type": "code",
   "execution_count": 1,
   "metadata": {},
   "outputs": [
    {
     "name": "stdout",
     "output_type": "stream",
     "text": [
      "-336\n"
     ]
    }
   ],
   "source": [
    "import numpy\n",
    "Sample_List = (8, 2, 3, -1, 7)\n",
    "ans = numpy.prod(Sample_List)\n",
    "print(ans)"
   ]
  },
  {
   "cell_type": "markdown",
   "metadata": {},
   "source": [
    "3. ***Optional Exercise (Extra Points)***. Write a Python function that accepts a string and calculate the number of upper case letters and lower case letters."
   ]
  },
  {
   "cell_type": "raw",
   "metadata": {},
   "source": [
    "Sample String : 'The quick Brow Fox'\n",
    "Expected Output :\n",
    "No. of Upper case characters : 3\n",
    "No. of Lower case Characters : 12"
   ]
  },
  {
   "cell_type": "code",
   "execution_count": 2,
   "metadata": {},
   "outputs": [
    {
     "name": "stdout",
     "output_type": "stream",
     "text": [
      "No. of Upper case characters:  3\n",
      "No. of Lower case characters:  12\n"
     ]
    }
   ],
   "source": [
    "Sample_String = 'The quick Brow Fox'\n",
    "letter_Size = {'upper':0, 'lower':0} # Create a dictionary \n",
    "\n",
    "#Create a for loop to check and count for upper and lower case letters \n",
    "for letter in Sample_String:\n",
    "    if letter.isupper():\n",
    "        letter_Size['upper'] = letter_Size['upper'] + 1  #create an array from the dictionary that started at 0 \n",
    "    if letter.islower():\n",
    "        letter_Size['lower'] = letter_Size['lower'] + 1  #create an array from the dictionary that started at 0 \n",
    "\n",
    "#Print the results \n",
    "print(\"No. of Upper case characters: \", letter_Size['upper'])\n",
    "print(\"No. of Lower case characters: \", letter_Size['lower'])\n",
    "\n",
    "        "
   ]
  },
  {
   "cell_type": "markdown",
   "metadata": {},
   "source": [
    "- - -\n",
    "\n",
    "Copyright © 2020 Qualex Consulting Services Incorporated."
   ]
  }
 ],
 "metadata": {
  "kernelspec": {
   "display_name": "Python 3",
   "language": "python",
   "name": "python3"
  },
  "language_info": {
   "codemirror_mode": {
    "name": "ipython",
    "version": 3
   },
   "file_extension": ".py",
   "mimetype": "text/x-python",
   "name": "python",
   "nbconvert_exporter": "python",
   "pygments_lexer": "ipython3",
   "version": "3.8.8"
  }
 },
 "nbformat": 4,
 "nbformat_minor": 4
}
