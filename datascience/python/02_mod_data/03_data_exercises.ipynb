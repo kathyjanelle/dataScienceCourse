{
 "cells": [
  {
   "cell_type": "markdown",
   "metadata": {},
   "source": [
    "Data Science Fundamentals: Python |\n",
    "[Table of Contents](../index.ipynb)\n",
    "- - - \n",
    "<!--NAVIGATION-->\n",
    "Module 2. Python Data | [Simple Types](./01_simple_types.ipynb) | [Data Structures](./02_data_structures.ipynb): [Lists](./02_data_structures_lists.ipynb), [Tuples](./02_data_structures_tuples_part_1), [Sets](./02_data_structures_sets.ipynb), [Dictionaries](./02_data_structures_dictionaries.ipynb) | **[Exercises](./03_data_exercises.ipynb)**"
   ]
  },
  {
   "cell_type": "markdown",
   "metadata": {},
   "source": [
    "# Data Structure Exercises"
   ]
  },
  {
   "cell_type": "markdown",
   "metadata": {},
   "source": [
    "### Exercise 1:\n",
    "\n",
    "In mathematics, the quadratic equation ax^2+bx+c=0 can be solved with the formula x=(−b±(√(b^2−4ac))/2a.\n",
    "\n",
    "Write a function solve_quadratic, that returns both solutions of a generic quadratic as a pair (2-tuple) when the coefficients are given as parameters. It should work like this:\n",
    "\n",
    "print(solve_quadratic(1,-3,2))\n",
    "\n",
    "(2.0,1.0)\n",
    "\n",
    "print(solve_quadratic(1,2,1))\n",
    "\n",
    "(-1.0,-1.0)\n",
    "\n",
    "You may want to use the math.sqrt function from the math module in your solution. Test that your function works in the main function!"
   ]
  },
  {
   "cell_type": "code",
   "execution_count": 6,
   "metadata": {
    "scrolled": true
   },
   "outputs": [
    {
     "name": "stdout",
     "output_type": "stream",
     "text": [
      "a = 1\n",
      "b = -3\n",
      "c = 2\n",
      "The first solution is:  1.0\n",
      "The second solution is:  2.0\n"
     ]
    }
   ],
   "source": [
    "#getting our imports for math.sqrt\n",
    "#from math import sqrt\n",
    "#create solve_quadratic func\n",
    "#def solve_quadratic(a, b, c):\n",
    "   # \"Your Documentation String Here\"\n",
    "#test case 1 should return (2.0,1.0)\n",
    "#print(solve_quadratic(1,-3,2))\n",
    "#test case 2 should return (-1.0/-1.0)\n",
    "#print(solve_quadratic(1,2,1))\n",
    "\n",
    "import math\n",
    "\n",
    "def main():\n",
    "# Get input\n",
    "    a = float(input(\"a = \"))\n",
    "    b = float(input(\"b = \"))\n",
    "    c = float(input(\"c = \"))\n",
    "    solve_quadratic(a,b,c)\n",
    "\n",
    "def solve_quadratic(a,b,c):\n",
    "# To calculate the discriminant \n",
    "    d = (b**2) - (4*a*c)\n",
    "\n",
    "# Calulate 2 solutions \n",
    "    x1 = (-b-math.sqrt(d))/(2*a)\n",
    "    x2 = (-b+math.sqrt(d))/(2*a)\n",
    "    \n",
    "#Display result on screen     \n",
    "    print(\"The first solution is: \",x1)\n",
    "    print(\"The second solution is: \",x2)\n",
    "    \n",
    "# Call the main() function \n",
    "main()"
   ]
  },
  {
   "cell_type": "markdown",
   "metadata": {},
   "source": [
    "### Exercise 2:\n",
    "Get a space-separated list of integers from the user, create a tuple of those integers. Then compute and print the result of hash(tuple).  [Hint](https://docs.python.org/3/library/functions.html#hash). **Hash()**"
   ]
  },
  {
   "cell_type": "markdown",
   "metadata": {},
   "source": [
    "A **[hash](https://docs.python.org/3/library/functions.html#hash)** is an fixed sized integer that identifies a particular value. Each value needs to have its own hash, so for the same value you will get the same hash even if it's not the same object."
   ]
  },
  {
   "cell_type": "code",
   "execution_count": 2,
   "metadata": {},
   "outputs": [
    {
     "name": "stdout",
     "output_type": "stream",
     "text": [
      "Enter in a spaced-separate list of integers: 1 2 3\n",
      "-1252514297488384159\n"
     ]
    }
   ],
   "source": [
    "#Get a space-separated list of integers from the user & create a tuple of those integers\n",
    "myInput = input(\"Enter in a spaced-separate list of integers: \").split()\n",
    "tup = tuple([int(num) for num in myInput])\n",
    "\n",
    "#Then compute and print the result of hash(tuple)\n",
    "x = hash((\"tup\"))\n",
    "print(x)\n"
   ]
  },
  {
   "cell_type": "markdown",
   "metadata": {},
   "source": [
    "### Exercise 3:\n",
    "Take the following two lists. Create a third list by picking a odd-index elements from the first list and even-index elements from the second."
   ]
  },
  {
   "cell_type": "code",
   "execution_count": 4,
   "metadata": {},
   "outputs": [],
   "source": [
    "list1 = [3, 6, 9, 12, 15, 18, 21]\n",
    "list2 = [4, 8, 12, 16, 20, 24, 28]"
   ]
  },
  {
   "cell_type": "code",
   "execution_count": 13,
   "metadata": {},
   "outputs": [
    {
     "name": "stdout",
     "output_type": "stream",
     "text": [
      "[3, 9, 15, 21, 8, 16, 24]\n"
     ]
    }
   ],
   "source": [
    "#your code here, remember to run the block above!\n",
    "list1 = [3, 6, 9, 12, 15, 18, 21]\n",
    "list2 = [4, 8, 12, 16, 20, 24, 28]\n",
    "third_list = list()\n",
    "\n",
    "#print [start:end:step]\n",
    "odd_i = list1[0:7:2]\n",
    "even_i = list2[1:7:2]\n",
    "\n",
    "#third_list is concatenate of odd_i and even_i\n",
    "third_list.extend(odd_i)\n",
    "third_list.extend(even_i)\n",
    "print(third_list)"
   ]
  },
  {
   "cell_type": "markdown",
   "metadata": {},
   "source": [
    "### Exercise 4:\n",
    "Take the following list. Slice it into three equal chunks and reverse each list."
   ]
  },
  {
   "cell_type": "code",
   "execution_count": 22,
   "metadata": {},
   "outputs": [],
   "source": [
    "sampleList = [11, 45, 8, 23, 14, 12, 78, 45, 89]"
   ]
  },
  {
   "cell_type": "code",
   "execution_count": 23,
   "metadata": {},
   "outputs": [
    {
     "name": "stdout",
     "output_type": "stream",
     "text": [
      "[89, 12, 8]\n",
      "[45, 14, 45]\n",
      "[78, 23, 11]\n"
     ]
    }
   ],
   "source": [
    "#your code here\n",
    "sampleList = [11, 45, 8, 23, 14, 12, 78, 45, 89]\n",
    "sampleList.reverse()  #to reverse sampleList\n",
    "start = 0 \n",
    "end = 9\n",
    "for x in range(start,end,3):\n",
    "    print(sampleList[x:x+3])"
   ]
  },
  {
   "cell_type": "markdown",
   "metadata": {},
   "source": [
    "### Exercise 5: \n",
    "Iterate through a given list (`rollNumber`) and check if a given element already exists in the given dictionary (`sampleDict`) as a key’s value. If not, delete it from the list."
   ]
  },
  {
   "cell_type": "code",
   "execution_count": 1,
   "metadata": {},
   "outputs": [],
   "source": [
    "rollNumber = [47, 64, 69, 37, 76, 83, 95, 97]\n",
    "sampleDict ={'Zach':47, 'Emma':69, 'Kelly':76, 'Jason':97}"
   ]
  },
  {
   "cell_type": "markdown",
   "metadata": {},
   "source": [
    "Please know this is a hard problem, and is advanced for a data structures  exercise. It is designed to be the challenge problem, because this exercise incorporates knowledge from material we have yet to go through. The key is to keep in mind the nature of dictionaries, and how our control flow/iteration is performed in these `for` loops. \n",
    "\n",
    "There are two ways to approach this problem, our approach is to delete elements from `rollNumber`, the alternate is to add the matches from `rollNumber` and `sampleDict`'s values to a new list. The second approach is easier, but you should do the first approach for this exercise. Here is one example of the first approach, but notice how 95 is included here, and ponder why."
   ]
  },
  {
   "cell_type": "code",
   "execution_count": 3,
   "metadata": {},
   "outputs": [
    {
     "name": "stdout",
     "output_type": "stream",
     "text": [
      "[47, 69, 76, 97]\n"
     ]
    }
   ],
   "source": [
    "#Incorrect, will include #95\n",
    "#iterate through the elements in rollNumber\n",
    "for n in rollNumber:\n",
    "    #check if a given element already exists in sampleDict as the key, n's value pair.\n",
    "    if n not in sampleDict.values():\n",
    "        #if an element already exists in the given dict then we remove it\n",
    "        rollNumber.remove(n) \n",
    "    #if n is in sampleDict.values, continue\n",
    "    else:\n",
    "        continue\n",
    "\n",
    "print(rollNumber)"
   ]
  },
  {
   "cell_type": "code",
   "execution_count": 5,
   "metadata": {},
   "outputs": [
    {
     "name": "stdout",
     "output_type": "stream",
     "text": [
      "[47, 69, 76, 95, 97]\n"
     ]
    }
   ],
   "source": [
    "#your code here, correct answer is [47, 69, 76, 97]\n",
    "rollNumber = [47, 64, 69, 37, 76, 83, 95, 97]\n",
    "sampleDict ={'Zach':47, 'Emma':69, 'Kelly':76, 'Jason':97}\n",
    "rollNumber_2 = rollNumber \n",
    "for item in rollNumber:\n",
    "    #check if a given element already exists in sampleDict as the key, n's value pair.\n",
    "    #print(item)\n",
    "    \n",
    "    if item not in sampleDict.values():\n",
    "        #if an element already exists in the given dict then we remove it\n",
    "        rollNumber_2.remove(item)\n",
    "        \n",
    "    #if n is in sampleDict.values, continue\n",
    "    else:\n",
    "        continue\n",
    "\n",
    "print(rollNumber_2)"
   ]
  },
  {
   "cell_type": "markdown",
   "metadata": {},
   "source": [
    "## Extra Points\n",
    "- - -"
   ]
  },
  {
   "cell_type": "markdown",
   "metadata": {},
   "source": [
    "1. ***Optional Exercise (Extra Points)***.  Write a Python program to convert a tuple to a string."
   ]
  },
  {
   "cell_type": "code",
   "execution_count": 19,
   "metadata": {},
   "outputs": [
    {
     "data": {
      "text/plain": [
       "'ava,john,sue,paul'"
      ]
     },
     "execution_count": 19,
     "metadata": {},
     "output_type": "execute_result"
    }
   ],
   "source": [
    "names = ('ava','john','sue','paul')\n",
    "','.join(names)"
   ]
  },
  {
   "cell_type": "markdown",
   "metadata": {},
   "source": [
    "2. ***Optional Exercise (Extra Points)***.  Write a Python program to check whether an element exists within a tuple."
   ]
  },
  {
   "cell_type": "code",
   "execution_count": 21,
   "metadata": {},
   "outputs": [
    {
     "name": "stdout",
     "output_type": "stream",
     "text": [
      "True\n",
      "False\n"
     ]
    }
   ],
   "source": [
    "names = ('ava','john','sue','paul')\n",
    "print('ava' in names)\n",
    "print('susanna' in names)"
   ]
  },
  {
   "cell_type": "markdown",
   "metadata": {},
   "source": [
    "3. ***Optional Exercise (Extra Points)***.  Write a Python program to print a tuple with string formatting."
   ]
  },
  {
   "cell_type": "code",
   "execution_count": 23,
   "metadata": {},
   "outputs": [
    {
     "name": "stdout",
     "output_type": "stream",
     "text": [
      "Names include: ('ava', 'john', 'sue', 'paul')\n"
     ]
    }
   ],
   "source": [
    "names = ('ava','john','sue','paul')\n",
    "print('Names include: {0}'.format(names))"
   ]
  },
  {
   "cell_type": "markdown",
   "metadata": {},
   "source": [
    "- - - \n",
    "<!--NAVIGATION-->\n",
    "Module 2. Python Data | [Simple Types](./01_simple_types.ipynb) | [Data Structures](./02_data_structures.ipynb) | **[Exercises](./03_data_exercises.ipynb)**\n",
    "<br>\n",
    "[Top](#)"
   ]
  },
  {
   "cell_type": "markdown",
   "metadata": {},
   "source": [
    "- - -\n",
    "\n",
    "Copyright © 2020 Qualex Consulting Services Incorporated."
   ]
  }
 ],
 "metadata": {
  "kernelspec": {
   "display_name": "Python 3",
   "language": "python",
   "name": "python3"
  },
  "language_info": {
   "codemirror_mode": {
    "name": "ipython",
    "version": 3
   },
   "file_extension": ".py",
   "mimetype": "text/x-python",
   "name": "python",
   "nbconvert_exporter": "python",
   "pygments_lexer": "ipython3",
   "version": "3.8.8"
  }
 },
 "nbformat": 4,
 "nbformat_minor": 4
}
