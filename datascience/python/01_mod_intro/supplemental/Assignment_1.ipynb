{
 "cells": [
  {
   "cell_type": "code",
   "execution_count": 1,
   "id": "81eec5b6",
   "metadata": {},
   "outputs": [
    {
     "name": "stdout",
     "output_type": "stream",
     "text": [
      "First name: John\n",
      "Last name: Doe\n",
      "Doe John\n"
     ]
    }
   ],
   "source": [
    "#1\n",
    "# Print first name and last name in reverse order \n",
    "f_name = input(\"First name: \")\n",
    "l_name = input(\"Last name: \")\n",
    "print(l_name + \" \" + f_name)"
   ]
  },
  {
   "cell_type": "code",
   "execution_count": 10,
   "id": "4e9759ba",
   "metadata": {},
   "outputs": [
    {
     "name": "stdout",
     "output_type": "stream",
     "text": [
      "Integer: 4\n",
      "492\n"
     ]
    }
   ],
   "source": [
    "#2\n",
    "# Script to compute the value of n + nn + nnn\n",
    "n = int(input(\"Integer: \"))\n",
    "n_1 = int(\"%s\" % n )\n",
    "n_2 = int(\"%s%s\" % (n,n))\n",
    "n_3 = int(\"%s%s%s\" % (n,n,n))\n",
    "print(n_1+n_2+n_3)"
   ]
  },
  {
   "cell_type": "code",
   "execution_count": 13,
   "id": "e9c07d09",
   "metadata": {},
   "outputs": [
    {
     "name": "stdout",
     "output_type": "stream",
     "text": [
      " What country are you from? Trinidad \n",
      "I have heard that Trinidad  is a beautiful country!\n"
     ]
    }
   ],
   "source": [
    "#3\n",
    "# Script to concatenate string and input \n",
    "n = input(\" What country are you from? \")\n",
    "print(\"I have heard that \" + n + \" is a beautiful country!\")"
   ]
  },
  {
   "cell_type": "code",
   "execution_count": 18,
   "id": "3b057409",
   "metadata": {},
   "outputs": [],
   "source": [
    "#4\n",
    "# Script to state out put \n",
    "x = 10\n",
    "y = 50 \n",
    "if (x ** 2 > 100 and y < 100):\n",
    "    print(x,y)\n",
    "# The outout is nothing "
   ]
  },
  {
   "cell_type": "code",
   "execution_count": 19,
   "id": "da800663",
   "metadata": {},
   "outputs": [
    {
     "name": "stdout",
     "output_type": "stream",
     "text": [
      "[10, 20, 30, 40]\n",
      "[10, 20, 30, 40]\n"
     ]
    }
   ],
   "source": [
    "#8\n",
    "a = [10, 20]\n",
    "b = a\n",
    "b += [30, 40]\n",
    "print(a)\n",
    "print(b)\n",
    "# the (+) operator to the = means the increment of the array or number,\n",
    "#so since a=b then there is an increment of [30, 40]"
   ]
  },
  {
   "cell_type": "code",
   "execution_count": 20,
   "id": "6c63214e",
   "metadata": {},
   "outputs": [
    {
     "name": "stdout",
     "output_type": "stream",
     "text": [
      "2\n"
     ]
    }
   ],
   "source": [
    "#13\n",
    "# the operator % is modulos which means remainder \n",
    "print(2%6)\n",
    "# since 6 divides 2 is zero then the remainder is 2"
   ]
  },
  {
   "cell_type": "code",
   "execution_count": 21,
   "id": "026f74ab",
   "metadata": {},
   "outputs": [
    {
     "name": "stdout",
     "output_type": "stream",
     "text": [
      "216\n"
     ]
    }
   ],
   "source": [
    "#14\n",
    "# Script to compute the following input \n",
    "print(2 * 3 ** 3 * 4)\n",
    "# The application is 2 * 3^3 = 54 then, 54*4 = 216"
   ]
  },
  {
   "cell_type": "code",
   "execution_count": null,
   "id": "4a0f60c1",
   "metadata": {},
   "outputs": [],
   "source": [
    "#15\n",
    "# A text editor is a program that saves scripts that are not heavy in coding. \n",
    "\n",
    "#16\n",
    "# Python is a computer software programming language that is used to generate\n",
    "# graphs, build websites and compute values from data input analysis. \n",
    "\n",
    "#17 \n",
    "#Jupyter Notebook is an open source web application that create and save \n",
    "#documents that contain scripits,equations and computational outputs. Jupyter \n",
    "# notebook can be located in Anaconda. Other alternatives to Jupyter are Pycharm, Sublime Text 3 \n",
    "# IDLE(Integrated Development and Learning Environment), Spyder, Atom, PyDev"
   ]
  }
 ],
 "metadata": {
  "kernelspec": {
   "display_name": "Python 3",
   "language": "python",
   "name": "python3"
  },
  "language_info": {
   "codemirror_mode": {
    "name": "ipython",
    "version": 3
   },
   "file_extension": ".py",
   "mimetype": "text/x-python",
   "name": "python",
   "nbconvert_exporter": "python",
   "pygments_lexer": "ipython3",
   "version": "3.8.8"
  }
 },
 "nbformat": 4,
 "nbformat_minor": 5
}
