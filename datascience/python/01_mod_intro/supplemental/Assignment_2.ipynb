{
 "cells": [
  {
   "cell_type": "code",
   "execution_count": 21,
   "id": "6c9efe1a",
   "metadata": {},
   "outputs": [
    {
     "name": "stdout",
     "output_type": "stream",
     "text": [
      "a = 1\n",
      "b = -3\n",
      "c = 2\n",
      "The first solution is:  1.0\n",
      "The second solution is:  2.0\n"
     ]
    }
   ],
   "source": [
    "import math\n",
    "\n",
    "def main():\n",
    "# Get input\n",
    "    a = float(input(\"a = \"))\n",
    "    b = float(input(\"b = \"))\n",
    "    c = float(input(\"c = \"))\n",
    "    solve_quadratic(a,b,c)\n",
    "\n",
    "def solve_quadratic(a,b,c):\n",
    "# To calculate the discriminant \n",
    "    d = (b**2) - (4*a*c)\n",
    "\n",
    "# Calulate 2 solutions \n",
    "    x1 = (-b-math.sqrt(d))/(2*a)\n",
    "    x2 = (-b+math.sqrt(d))/(2*a)\n",
    "    \n",
    "#Display result on screen     \n",
    "    print(\"The first solution is: \",x1)\n",
    "    print(\"The second solution is: \",x2)\n",
    "    \n",
    "# Call the main() function \n",
    "main()\n",
    "  "
   ]
  },
  {
   "cell_type": "code",
   "execution_count": 41,
   "id": "bb99228e",
   "metadata": {},
   "outputs": [
    {
     "name": "stdout",
     "output_type": "stream",
     "text": [
      "Enter in a spaced-separate list of integers: 1 2 3\n"
     ]
    },
    {
     "data": {
      "text/plain": [
       "4164692001888022363"
      ]
     },
     "execution_count": 41,
     "metadata": {},
     "output_type": "execute_result"
    }
   ],
   "source": [
    "myInput = input(\"Enter in a spaced-separate list of integers: \")\n",
    "tup = myInput.split()\n",
    "hash((\"tup\"))"
   ]
  },
  {
   "cell_type": "code",
   "execution_count": 64,
   "id": "e434c5e0",
   "metadata": {},
   "outputs": [
    {
     "name": "stdout",
     "output_type": "stream",
     "text": [
      "[3, 9, 15, 21, 8, 16, 24]\n"
     ]
    }
   ],
   "source": [
    "list1 = [3, 6, 9, 12, 15, 18, 21]\n",
    "list2 = [4, 8, 12, 16, 20, 24, 28]\n",
    "third_list = list()\n",
    "\n",
    "#print [start:end:step]\n",
    "odd_i = list1[0:7:2]\n",
    "even_i = list2[1:7:2]\n",
    "\n",
    "#third_list is concatenate of odd_i and even_i\n",
    "third_list.extend(odd_i)\n",
    "third_list.extend(even_i)\n",
    "print(third_list)"
   ]
  },
  {
   "cell_type": "code",
   "execution_count": 69,
   "id": "dee762bd",
   "metadata": {},
   "outputs": [
    {
     "name": "stdout",
     "output_type": "stream",
     "text": [
      "[89, 45, 78]\n",
      "[12, 14, 23]\n",
      "[8, 45, 11]\n"
     ]
    }
   ],
   "source": [
    "sampleList = [11, 45, 8, 23, 14, 12, 78, 45, 89]\n",
    "sampleList.reverse()\n",
    "start = 0 \n",
    "end = 9\n",
    "for x in range(start,end,3):\n",
    "    print(sampleList[x:x+3])"
   ]
  },
  {
   "cell_type": "code",
   "execution_count": 75,
   "id": "e545cc43",
   "metadata": {},
   "outputs": [
    {
     "name": "stdout",
     "output_type": "stream",
     "text": [
      "47\n",
      "64\n",
      "37\n",
      "83\n",
      "97\n",
      "[47, 69, 76, 95, 97]\n"
     ]
    }
   ],
   "source": [
    "rollNumber = [47, 64, 69, 37, 76, 83, 95, 97]\n",
    "sampleDict ={'Zach':47, 'Emma':69, 'Kelly':76, 'Jason':97}\n",
    "\n",
    "for item in rollNumber:\n",
    "    #check if a given element already exists in sampleDict as the key, n's value pair.\n",
    "    print(item)\n",
    "    if item not in sampleDict.values():\n",
    "        #if an element already exists in the given dict then we remove it\n",
    "        rollNumber.remove(item) \n",
    "    #if n is in sampleDict.values, continue\n",
    "    else:\n",
    "        continue\n",
    "\n",
    "print(rollNumber)"
   ]
  },
  {
   "cell_type": "code",
   "execution_count": null,
   "id": "88679f10",
   "metadata": {},
   "outputs": [],
   "source": []
  }
 ],
 "metadata": {
  "kernelspec": {
   "display_name": "Python 3",
   "language": "python",
   "name": "python3"
  },
  "language_info": {
   "codemirror_mode": {
    "name": "ipython",
    "version": 3
   },
   "file_extension": ".py",
   "mimetype": "text/x-python",
   "name": "python",
   "nbconvert_exporter": "python",
   "pygments_lexer": "ipython3",
   "version": "3.8.8"
  }
 },
 "nbformat": 4,
 "nbformat_minor": 5
}
